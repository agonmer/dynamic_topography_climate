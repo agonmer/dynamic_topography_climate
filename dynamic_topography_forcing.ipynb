{
 "cells": [
  {
   "cell_type": "code",
   "execution_count": 1,
   "id": "a2ce6811",
   "metadata": {},
   "outputs": [],
   "source": [
    "import numpy as np\n",
    "import xarray as xr\n",
    "import matplotlib.pyplot as plt\n",
    "import pandas as pd\n",
    "from scipy.interpolate import griddata"
   ]
  },
  {
   "cell_type": "code",
   "execution_count": 2,
   "id": "266c559d",
   "metadata": {},
   "outputs": [
    {
     "name": "stdout",
     "output_type": "stream",
     "text": [
      "aclim_era5_sfc_1981_2010.ctl\r\n",
      "aclim_era5_sfc_1981_2010_flament-et-al-2013_1d.nc\r\n",
      "aclim_era5_sfc_1981_2010.grd\r\n",
      "aclim_era5_sfc_1981_2010_kaban-et-al-2003.nc\r\n",
      "aclim_era5_sfc_1981_2010_modified.ctl\r\n",
      "aclim_era5_sfc_1981_2010_modified.ctl~\r\n",
      "aclim_era5_sfc_1981_2010_modified_orography.nc\r\n",
      "aclim_era5_sfc_1981_2010.nc\r\n",
      "aclim_era5_sfc_1981_2010_panasyuk-hager-2000.nc\r\n",
      "aclim_era5_sfc_1981_2010_steinberger-2007.nc\r\n",
      "\u001b[0m\u001b[01;35mannual_precip_anomaly_FLA.png\u001b[0m\r\n",
      "\u001b[01;35mannual_precip_anomaly_KAB.png\u001b[0m\r\n",
      "\u001b[01;35mannual_precip_anomaly_RHO.png\u001b[0m\r\n",
      "\u001b[01;35mannual_precip_anomaly_STE.png\u001b[0m\r\n",
      "\u001b[01;35mannual_precip_CTL.png\u001b[0m\r\n",
      "\u001b[01;35mannual_precip_FLA.png\u001b[0m\r\n",
      "\u001b[01;35mannual_precip_KAB.png\u001b[0m\r\n",
      "\u001b[01;35mannual_precip_RHO.png\u001b[0m\r\n",
      "\u001b[01;35mannual_precip_STE.png\u001b[0m\r\n",
      "dynamic_topography_forcing.ipynb\r\n",
      "dynamic_with_shallow_structure_spot.dat\r\n",
      "dynamic_with_shallow_structure_spot_shiptrack.dat\r\n",
      "\u001b[01;35mdyn_top_map_flament-et-al-2013_1d.png\u001b[0m\r\n",
      "\u001b[01;35mdyn_top_mapflament-et-al-2013_1d.png\u001b[0m\r\n",
      "\u001b[01;35mdyn_top_map_kaban-et-al-2003.png\u001b[0m\r\n",
      "\u001b[01;35mdyn_top_mapkaban-et-al-2003.png\u001b[0m\r\n",
      "\u001b[01;35mdyn_top_map_panasyuk-hager-2000.png\u001b[0m\r\n",
      "\u001b[01;35mdyn_top_mappanasyuk-hager-2000.png\u001b[0m\r\n",
      "\u001b[01;35mdyn_top_map_steinberger-2007.png\u001b[0m\r\n",
      "\u001b[01;35mdyn_top_mapsteinberger-2007.png\u001b[0m\r\n",
      "\u001b[01;35mdyn_with_shallow_structure_full_filtered.png\u001b[0m\r\n",
      "\u001b[01;35mdyn_with_shallow_structure_full.png\u001b[0m\r\n",
      "\u001b[01;35mdyn_with_shallow_structure_full_scatter_data.png\u001b[0m\r\n",
      "\u001b[01;34mfig_speedy\u001b[0m/\r\n",
      "\u001b[01;35morography_anomaly_CTL.png\u001b[0m\r\n",
      "\u001b[01;35morography_anomaly_FLA.png\u001b[0m\r\n",
      "\u001b[01;35morography_anomaly_KAB.png\u001b[0m\r\n",
      "\u001b[01;35morography_anomaly_PAN.png\u001b[0m\r\n",
      "\u001b[01;35morography_anomaly_RHO.png\u001b[0m\r\n",
      "\u001b[01;35morography_anomaly_STE.png\u001b[0m\r\n",
      "\u001b[01;35morography_CTL.png\u001b[0m\r\n",
      "\u001b[01;35morography_FLA.png\u001b[0m\r\n",
      "\u001b[01;35morography_KAB.png\u001b[0m\r\n",
      "\u001b[01;35morography_PAN.png\u001b[0m\r\n",
      "\u001b[01;35morography_RHO.png\u001b[0m\r\n",
      "\u001b[01;35morography_STE.png\u001b[0m\r\n",
      "\u001b[01;34moutput\u001b[0m/\r\n",
      "output_maps.ipynb\r\n",
      "preprint_100422_dynamic_topography_review.pdf\r\n",
      "README\r\n",
      "spot.dat\r\n",
      "spot_shiptrack.dat\r\n",
      "\u001b[01;35msurface_wind_DJF_anomaly_CTL.png\u001b[0m\r\n",
      "\u001b[01;35msurface_wind_DJF_anomaly_FLA.png\u001b[0m\r\n",
      "\u001b[01;35msurface_wind_DJF_anomaly_KAB.png\u001b[0m\r\n",
      "\u001b[01;35msurface_wind_DJF_anomaly_RHO.png\u001b[0m\r\n",
      "\u001b[01;35msurface_wind_DJF_CTL.png\u001b[0m\r\n",
      "\u001b[01;35msurface_wind_DJF_FLA.png\u001b[0m\r\n",
      "\u001b[01;35msurface_wind_DJF_KAB.png\u001b[0m\r\n",
      "\u001b[01;35msurface_wind_DJF_RHO.png\u001b[0m\r\n",
      "\u001b[01;35msurface_wind_JJA_anomaly_FLA.png\u001b[0m\r\n",
      "\u001b[01;35msurface_wind_JJA_anomaly_KAB.png\u001b[0m\r\n",
      "\u001b[01;35msurface_wind_JJA_anomaly_RHO.png\u001b[0m\r\n",
      "\u001b[01;35msurface_wind_JJA_CTL.png\u001b[0m\r\n",
      "\u001b[01;35msurface_wind_JJA_FLA.png\u001b[0m\r\n",
      "\u001b[01;35msurface_wind_JJA_KAB.png\u001b[0m\r\n",
      "\u001b[01;35msurface_wind_JJA_RHO.png\u001b[0m\r\n",
      "\u001b[01;34mvarious_models\u001b[0m/\r\n",
      "with_shallow_structure_full.dat\r\n",
      "with_shallow_structure_full.dat~\r\n",
      "with_shallow_structure_full.ok.dat~\r\n",
      "with_shallow_structure_full_PSsmoothing.dat\r\n",
      "with_shallow_structure_full_PSsmoothing.dat~\r\n",
      "with_shallow_structure_oceans.dat\r\n"
     ]
    }
   ],
   "source": [
    "ls"
   ]
  },
  {
   "cell_type": "code",
   "execution_count": null,
   "id": "e4dcaabd",
   "metadata": {},
   "outputs": [],
   "source": [
    "df = pd.read_csv('with_shallow_structure_full.dat', sep='\\s+')\n",
    "df"
   ]
  },
  {
   "cell_type": "code",
   "execution_count": null,
   "id": "ab83c50b",
   "metadata": {},
   "outputs": [],
   "source": [
    "fig = plt.figure(figsize=(16,8))\n",
    "sc = plt.scatter(df.lon,df.lat,c=df.value_km,cmap='seismic',vmin=-5,vmax=5)\n",
    "plt.colorbar(sc)\n",
    "plt.ylabel('Latitude [°N]',fontsize=14)\n",
    "plt.xlabel('Longitude [°E]',fontsize=14)\n",
    "plt.tick_params(axis='both',labelsize=14)\n",
    "\n",
    "plt.savefig('dyn_with_shallow_structure_full_scatter_data.png')"
   ]
  },
  {
   "cell_type": "code",
   "execution_count": null,
   "id": "91d7b58e",
   "metadata": {},
   "outputs": [],
   "source": [
    "# Try to interpolate the data on a regular grid of 0.25°\n",
    "\n",
    "grid_x, grid_y = np.mgrid[-180:180:0.25, -90:90:0.25]\n",
    "grid_x"
   ]
  },
  {
   "cell_type": "code",
   "execution_count": null,
   "id": "32288eef",
   "metadata": {},
   "outputs": [],
   "source": [
    "interp_dyn_top = griddata((df.lon,df.lat),df.value_km,(grid_x, grid_y), method='linear')"
   ]
  },
  {
   "cell_type": "code",
   "execution_count": null,
   "id": "91bda0db",
   "metadata": {},
   "outputs": [],
   "source": [
    "fig = plt.figure(figsize=(16,8))\n",
    "sc = plt.pcolormesh(grid_x,grid_y,interp_dyn_top,cmap='seismic',vmin=-5,vmax=5,shading='nearest')\n",
    "plt.colorbar(sc)\n",
    "plt.ylabel('Latitude [°N]',fontsize=14)\n",
    "plt.xlabel('Longitude [°E]',fontsize=14)\n",
    "plt.tick_params(axis='both',labelsize=14)\n",
    "plt.title('Dynamic topography [km]',fontsize=16)\n",
    "\n",
    "plt.savefig('dyn_with_shallow_structure_full.png')"
   ]
  },
  {
   "cell_type": "code",
   "execution_count": null,
   "id": "ee919891",
   "metadata": {},
   "outputs": [],
   "source": [
    "def nan_gaussian_filter(field,sigma):\n",
    "    \"\"\"\n",
    "    Function to smooth the field ignoring the NaNs.\n",
    "    I follow the first answer here \n",
    "    https://stackoverflow.com/questions/18697532/gaussian-filtering-a-image-with-nan-in-python\n",
    "    By default, the filter is truncated at 4 sigmas.\n",
    "    \"\"\"\n",
    "    from scipy.ndimage import gaussian_filter\n",
    "    \n",
    "    field = np.double(field)\n",
    "    \n",
    "    # Take the original field and replace the NaNs with zeros.\n",
    "    field0 = field.copy()\n",
    "    field0[np.isnan(field)] = 0\n",
    "    ff = gaussian_filter(field0, sigma=sigma)\n",
    "    \n",
    "    # Create the smoothed weight field.\n",
    "    weight = 0*field.copy()+1\n",
    "    weight[np.isnan(field)] = 0\n",
    "    ww = gaussian_filter(weight, sigma=sigma)\n",
    "    \n",
    "    zz = ff/(ww*weight) # This rescale for the actual weights used in the filter and set to NaN where the field\n",
    "                        # was originally NaN.\n",
    "    return zz\n"
   ]
  },
  {
   "cell_type": "code",
   "execution_count": null,
   "id": "371427d2",
   "metadata": {},
   "outputs": [],
   "source": [
    "# Let's try to filter this figure with a low-pass filter.\n",
    "\n",
    "lp_interp_dyn_top = nan_gaussian_filter(interp_dyn_top,40) # we filter with a sigma of 10 degrees\n",
    "\n",
    "fig = plt.figure(figsize=(16,8))\n",
    "sc = plt.pcolormesh(grid_x,grid_y,lp_interp_dyn_top,cmap='seismic',vmin=-2,vmax=2,shading='nearest')\n",
    "plt.colorbar(sc)\n",
    "plt.ylabel('Latitude [°N]',fontsize=14)\n",
    "plt.xlabel('Longitude [°E]',fontsize=14)\n",
    "plt.tick_params(axis='both',labelsize=14)\n",
    "plt.title('Dynamic topography [km]',fontsize=16)\n",
    "\n",
    "plt.savefig('dyn_with_shallow_structure_full_filtered.png')"
   ]
  },
  {
   "cell_type": "code",
   "execution_count": null,
   "id": "9345b2dd",
   "metadata": {},
   "outputs": [],
   "source": [
    "# Now read the file that Pietro modified (20241017) - the file is the same as before...\n",
    "df = pd.read_csv('with_shallow_structure_full_PSsmoothing.dat', sep='\\s+')\n",
    "df"
   ]
  },
  {
   "cell_type": "code",
   "execution_count": null,
   "id": "5ec59f31",
   "metadata": {},
   "outputs": [],
   "source": [
    "# Interpolate and plot\n",
    "grid_x, grid_y = np.mgrid[-180:180:0.25, -90:90:0.25]\n",
    "grid_x\n",
    "\n",
    "interp_dyn_top = griddata((df.lon,df.lat),df.value_km,(grid_x, grid_y), method='linear')\n",
    "\n",
    "fig = plt.figure(figsize=(16,8))\n",
    "sc = plt.pcolormesh(grid_x,grid_y,interp_dyn_top,cmap='seismic',vmin=-2,vmax=2,shading='nearest')\n",
    "plt.colorbar(sc)\n",
    "plt.ylabel('Latitude [°N]',fontsize=14)\n",
    "plt.xlabel('Longitude [°E]',fontsize=14)\n",
    "plt.tick_params(axis='both',labelsize=14)\n",
    "plt.title('Dynamic topography [km]',fontsize=16)\n",
    "\n",
    "#plt.savefig('dyn_with_shallow_structure_full.png')"
   ]
  },
  {
   "cell_type": "code",
   "execution_count": null,
   "id": "467285d8",
   "metadata": {},
   "outputs": [],
   "source": []
  },
  {
   "cell_type": "code",
   "execution_count": null,
   "id": "b23895e2",
   "metadata": {},
   "outputs": [],
   "source": []
  },
  {
   "cell_type": "code",
   "execution_count": null,
   "id": "ea297fe4",
   "metadata": {},
   "outputs": [],
   "source": [
    "# Read the SPEEDY orography file.\n",
    "# It is the aclim_era5_sfc_1981_2010.grd file. I edit its ctl file to remove the line \n",
    "# EDEF       1  NAMES  1,\n",
    "# because it is not recognized by cdo. Then, as it seems that the data are in the first time stamp only, \n",
    "# even though the file has 12 time steps I modify the \n",
    "# TDEF      12  LINEAR    jan1981     1mo\n",
    "# line replacing the 12 with 1.\n",
    "# I also remove the YREV keyword.\n",
    "\n",
    "# I convert the file with \n",
    "# cdo -v -f nc import_binary aclim_era5_sfc_1981_2010_modified.ctl aclim_era5_sfc_1981_2010.nc\n",
    "\n",
    "orogr_filename = 'aclim_era5_sfc_1981_2010.nc'\n",
    "ds_or = xr.open_dataset(orogr_filename)\n",
    "ds_or"
   ]
  },
  {
   "cell_type": "code",
   "execution_count": null,
   "id": "c389a5d7",
   "metadata": {},
   "outputs": [],
   "source": [
    "ds_or.orog.plot()"
   ]
  },
  {
   "cell_type": "code",
   "execution_count": null,
   "id": "f88c5739",
   "metadata": {},
   "outputs": [],
   "source": [
    "# Interpolate the dynamical topography on the SPEEDY grid.\n",
    "slon = ds_or.lon.values\n",
    "slat = ds_or.lat.values\n",
    "grid_x, grid_y = np.meshgrid(slon,slat)\n",
    "\n",
    "# Change negative df.lon with df.lon+360\n",
    "lon360 = df.lon\n",
    "lon360[df.lon<0] = df.lon+360\n",
    "\n",
    "a_interp_dyn_top = griddata((lon360,df.lat),df.value_km,(grid_x, grid_y), method='linear')\n",
    "interp_dyn_top = np.flipud(a_interp_dyn_top) # This is to flip upside down the "
   ]
  },
  {
   "cell_type": "code",
   "execution_count": null,
   "id": "cde517d7",
   "metadata": {},
   "outputs": [],
   "source": [
    "fig = plt.figure(figsize=(16,8))\n",
    "sc = plt.pcolormesh(grid_x,grid_y,interp_dyn_top,cmap='seismic',vmin=-2,vmax=2,shading='nearest')\n",
    "plt.colorbar(sc)\n",
    "plt.ylabel('Latitude [°N]',fontsize=14)\n",
    "plt.xlabel('Longitude [°E]',fontsize=14)\n",
    "plt.tick_params(axis='both',labelsize=14)\n",
    "plt.title('Dynamic topography [km]',fontsize=16)\n",
    "\n",
    "#plt.savefig('dyn_with_shallow_structure_full.png')"
   ]
  },
  {
   "cell_type": "code",
   "execution_count": null,
   "id": "39b08db0",
   "metadata": {},
   "outputs": [],
   "source": [
    "# Take the difference between the SPEEDY orography and the dynamic component.\n",
    "modif_or = ds_or.orog - interp_dyn_top*1000 # [m]\n",
    "modif_or = xr.where(modif_or>0,modif_or.values,0)\n",
    "\n",
    "# Reverse the y axis\n",
    "#modif_or_yrev = np.flipud(modif_or[0,0].values)\n",
    "\n",
    "modif_or.plot(vmin=-5000,vmax=5000,cmap='seismic')"
   ]
  },
  {
   "cell_type": "code",
   "execution_count": null,
   "id": "497cd63d",
   "metadata": {},
   "outputs": [],
   "source": []
  },
  {
   "cell_type": "code",
   "execution_count": null,
   "id": "7ff6467b",
   "metadata": {},
   "outputs": [],
   "source": [
    "# Replace the orography with the modified orography in the dataset and save it to a new netcdf file.\n",
    "\n",
    "ds_or['orog'] = modif_or\n",
    "ds_or.fillna(-999)\n",
    "ds_or.to_netcdf('aclim_era5_sfc_1981_2010_modified_orography.nc')\n",
    "\n",
    "# Now this needs to be converted in binary format with grads and then the ctl file of the original file can be used."
   ]
  },
  {
   "cell_type": "code",
   "execution_count": null,
   "id": "b2af0e1b",
   "metadata": {},
   "outputs": [],
   "source": []
  },
  {
   "cell_type": "code",
   "execution_count": null,
   "id": "d52e450c",
   "metadata": {},
   "outputs": [],
   "source": []
  },
  {
   "cell_type": "code",
   "execution_count": null,
   "id": "f9c8d76c",
   "metadata": {},
   "outputs": [],
   "source": []
  },
  {
   "cell_type": "code",
   "execution_count": null,
   "id": "f1806f96",
   "metadata": {},
   "outputs": [],
   "source": []
  },
  {
   "cell_type": "code",
   "execution_count": null,
   "id": "305d776f",
   "metadata": {},
   "outputs": [],
   "source": []
  },
  {
   "cell_type": "code",
   "execution_count": null,
   "id": "d7e5cc2e",
   "metadata": {},
   "outputs": [],
   "source": []
  },
  {
   "cell_type": "code",
   "execution_count": null,
   "id": "b5895aaa",
   "metadata": {},
   "outputs": [],
   "source": []
  },
  {
   "cell_type": "code",
   "execution_count": null,
   "id": "3b86e3a8",
   "metadata": {},
   "outputs": [],
   "source": []
  },
  {
   "cell_type": "code",
   "execution_count": null,
   "id": "265c41af",
   "metadata": {
    "scrolled": false
   },
   "outputs": [],
   "source": [
    "# Now read the files in the folder various_models\n",
    "model_names = ['flament-et-al-2013_1d','kaban-et-al-2003','panasyuk-hager-2000','steinberger-2007']\n",
    "\n",
    "# Read the SPEEDY orography file and create the grid to interpolate.\n",
    "orogr_filename = 'aclim_era5_sfc_1981_2010.nc'\n",
    "ds_or = xr.open_dataset(orogr_filename)\n",
    "slon = ds_or.lon.values\n",
    "slat = ds_or.lat.values\n",
    "grid_x, grid_y = np.meshgrid(slon,slat)\n",
    "\n",
    "for name in model_names:\n",
    "    filename = name+'.xyz'\n",
    "    df = pd.read_csv('./various_models/'+filename,sep='\\t')\n",
    "    \n",
    "    # Plot the map\n",
    "    fig = plt.figure(figsize=(16,8))\n",
    "    sc = plt.scatter(df.lon,df.lat,c=df.res_top,cmap='seismic',vmin=-2000,vmax=2000)\n",
    "    plt.colorbar(sc)\n",
    "    plt.ylabel('Latitude [°N]',fontsize=14)\n",
    "    plt.xlabel('Longitude [°E]',fontsize=14)\n",
    "    plt.tick_params(axis='both',labelsize=14)\n",
    "    plt.title('Dynamic topography [m], '+name,fontsize=16)\n",
    "    \n",
    "    plt.savefig('dyn_top_map_'+name+'.png')\n",
    "    plt.show()\n",
    "    \n",
    "    # Interpolate on SPEEDY grid\n",
    "    lon360 = df.lon.copy()\n",
    "    lon360[df.lon<0] = df.lon+360\n",
    "\n",
    "    a_interp_dyn_top = griddata((lon360,df.lat),df.res_top,(grid_x, grid_y), method='linear')\n",
    "    interp_dyn_top = np.flipud(a_interp_dyn_top) # This is to flip upside down the \n",
    "\n",
    "    fig = plt.figure(figsize=(16,8))\n",
    "    sc = plt.pcolormesh(grid_x,grid_y,interp_dyn_top,cmap='seismic',vmin=-2000,vmax=2000,shading='nearest')\n",
    "    plt.colorbar(sc)\n",
    "    plt.ylabel('Latitude [°N]',fontsize=14)\n",
    "    plt.xlabel('Longitude [°E]',fontsize=14)\n",
    "    plt.tick_params(axis='both',labelsize=14)\n",
    "    #plt.title('Dynamic topography [km]',fontsize=16)\n",
    "\n",
    "    # Take the difference between the SPEEDY orography and the dynamic component.\n",
    "    modif_or = ds_or.orog - interp_dyn_top # [m]\n",
    "    \n",
    "    # Replace the orography with the modified ororgaphy in the dataset and save it to a new netcdf file.\n",
    "    modif_or = xr.where(modif_or>0,modif_or.values,0)\n",
    "    ds_or['orog'] = modif_or\n",
    "\n",
    "    ds_or.fillna(-999)\n",
    "    ds_or.to_netcdf('aclim_era5_sfc_1981_2010_'+name+'.nc')\n"
   ]
  },
  {
   "cell_type": "code",
   "execution_count": null,
   "id": "9e5610c2",
   "metadata": {},
   "outputs": [],
   "source": [
    "ds_or.orog.plot()"
   ]
  },
  {
   "cell_type": "code",
   "execution_count": null,
   "id": "72152543",
   "metadata": {},
   "outputs": [],
   "source": []
  },
  {
   "cell_type": "code",
   "execution_count": 3,
   "id": "8064e8ef",
   "metadata": {},
   "outputs": [
    {
     "data": {
      "text/plain": [
       "<matplotlib.collections.QuadMesh at 0x7896ec913ac0>"
      ]
     },
     "execution_count": 3,
     "metadata": {},
     "output_type": "execute_result"
    },
    {
     "data": {
      "image/png": "[encoded data removed]",
      "text/plain": [
       "<Figure size 432x288 with 2 Axes>"
      ]
     },
     "metadata": {
      "needs_background": "light"
     },
     "output_type": "display_data"
    }
   ],
   "source": [
    "prova = xr.open_dataset('aclim_era5_sfc_1981_2010_steinberger-2007.nc')\n",
    "prova.orog.plot()"
   ]
  },
  {
   "cell_type": "code",
   "execution_count": null,
   "id": "5367262f",
   "metadata": {},
   "outputs": [],
   "source": []
  }
 ],
 "metadata": {
  "kernelspec": {
   "display_name": "Python 3",
   "language": "python",
   "name": "python3"
  },
  "language_info": {
   "codemirror_mode": {
    "name": "ipython",
    "version": 3
   },
   "file_extension": ".py",
   "mimetype": "text/x-python",
   "name": "python",
   "nbconvert_exporter": "python",
   "pygments_lexer": "ipython3",
   "version": "3.9.2"
  }
 },
 "nbformat": 4,
 "nbformat_minor": 5
}
